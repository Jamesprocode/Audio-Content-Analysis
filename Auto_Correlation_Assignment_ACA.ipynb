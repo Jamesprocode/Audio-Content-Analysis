{
  "cells": [
    {
      "cell_type": "markdown",
      "metadata": {
        "id": "EaCWAL-kN0pL"
      },
      "source": [
        "# Assignment\n",
        "\n",
        "1. Implement your own AutoCorrelation Function (ACF) to estimate the fundamental frequency (f0) of a frame of audio.\n",
        "\n",
        "2. Using the provided audio_blocking function, cut up a provided audio file into blocks, and apply your ACF function to each block.\n",
        "\n",
        "## PART ONE: WRITE A FUNCTION: estimate_f0()\n",
        "\n",
        "In your assigned pairs, walk through the steps necessary to use autocorrelation in order to estimate the pitch for the given audio frame. You will include your pseudo code steps as part of your submission along with the code.\n",
        "\n",
        "[This can be a plain text long comment at the head of your script]\n",
        "\n",
        "Ensure:\n",
        "\n",
        "- that you window the frame to minimize discontinuities/spectral leakage\n",
        "\n",
        "- normalize each frame's values by subtracting the mean of the frame\n",
        "\n",
        "- that you return \"np.nan\" for any estimated max ACF value that is below the threshold for each frame\n",
        "\n",
        "- return a single estimated pitch (or np.nan if the threshold is not met) per frame\n",
        "\n",
        "*Hint on design: (test on a single frame of audio first!!!)*\n",
        "\n",
        "Your function should return the estimated f0 for a given frame. I recommend using a list comprehension (a loop is fine if you are unfamiliar) to apply your function to each frame of the audio signal. Your output should be an array. (Note: use dtype = np.float64 when passing from a list to an array to preserve any np.nan values).\n",
        "\n",
        "\n",
        "\n",
        "Your function should:\n",
        "\n",
        "\n",
        "- Be called \"estimate_f0\"\n",
        "- Have the following parameters WITH these names (do not change them!)\n",
        "  - audio_frame (input = np.ndarray of samples) **not a filename!\n",
        "  - sr (sample rate)\n",
        "  - minfreq (the minimum frequency in Hz that the ACF function will \"look for\")\n",
        "  - maxfreq (the maximum frequency in Hz that the ACF function will \"look for\")\n",
        "  - threshold (the minimum ACF value below which there is not high reliability of pitched content)\n",
        "- Return a single fundamental frequency estimate between your minfreq and maxfreq parameters OR np.nan for a given frame of audio\n",
        "\n",
        "\n",
        "## PART TWO: APPLY YOUR FUNCTION TO EACH FRAME OF AUDIO USING OUR PRIOR FUNCTION (audio_blocking) & plot output\n",
        "\n",
        "You should be able to obtain output using our previous audio_blocking function (please use the one found in our files for consistency) [https://gatech.instructure.com/courses/487902/files/folder/Reference_Code?preview=65294101]\n",
        "\n",
        "such that:\n",
        "\n",
        "data, times = audio_blocking(input_file)\n",
        "\n",
        "returns the data variable, which is the array of audio blocks (i.e., each 'item' in data is one block of audio).\n",
        "\n",
        "Using a list comprehension (or \"for loop\"), apply your estimate_f0 function to each frame in \"data\".\n",
        "Plot the output and ensure that you have constrained your y_lim (frequency axis) to only show between 100 and 800 Hz.\n",
        "Plot the f0 contours for the full audio files found in [https://gatech.instructure.com/courses/487902/files/folder/Audio/Assignments/Assignment1_f0acf]\n",
        "\n",
        "Experiment with the following specifications for the plot to get the cleanest contour.\n",
        "\n",
        "minfreq\n",
        "maxfreq\n",
        "frame_size\n",
        "threshold\n",
        "[A discussion post will be opened soon to aid in this choice]\n",
        "\n",
        "## Your Final Submission\n",
        "\n",
        "Please upload a zip file with:\n",
        "\n",
        "a python script containing your pseudo code in plain text (comments) and your function code\n",
        "the audio files we assigned for testing (assume your file is in the \".\" relative directory)**\n",
        "and the image files (png or jpeg) showing your graph output."
      ]
    },
    {
      "cell_type": "code",
      "execution_count": 12,
      "metadata": {
        "colab": {
          "base_uri": "https://localhost:8080/"
        },
        "id": "1wQX8rrHLUWv",
        "outputId": "a57e1ff4-f2f5-4d4b-8917-7d03448b9a8d"
      },
      "outputs": [
        {
          "name": "stdout",
          "output_type": "stream",
          "text": [
            "Requirement already satisfied: scipy in ./ACA/lib/python3.12/site-packages (1.13.1)\n",
            "Requirement already satisfied: numpy in ./ACA/lib/python3.12/site-packages (2.0.2)\n",
            "Requirement already satisfied: matplotlib in ./ACA/lib/python3.12/site-packages (3.9.4)\n",
            "Requirement already satisfied: contourpy>=1.0.1 in ./ACA/lib/python3.12/site-packages (from matplotlib) (1.3.0)\n",
            "Requirement already satisfied: cycler>=0.10 in ./ACA/lib/python3.12/site-packages (from matplotlib) (0.12.1)\n",
            "Requirement already satisfied: fonttools>=4.22.0 in ./ACA/lib/python3.12/site-packages (from matplotlib) (4.59.1)\n",
            "Requirement already satisfied: kiwisolver>=1.3.1 in ./ACA/lib/python3.12/site-packages (from matplotlib) (1.4.7)\n",
            "Requirement already satisfied: packaging>=20.0 in ./ACA/lib/python3.12/site-packages (from matplotlib) (25.0)\n",
            "Requirement already satisfied: pillow>=8 in ./ACA/lib/python3.12/site-packages (from matplotlib) (11.3.0)\n",
            "Requirement already satisfied: pyparsing>=2.3.1 in ./ACA/lib/python3.12/site-packages (from matplotlib) (3.2.3)\n",
            "Requirement already satisfied: python-dateutil>=2.7 in ./ACA/lib/python3.12/site-packages (from matplotlib) (2.9.0.post0)\n",
            "Requirement already satisfied: six>=1.5 in ./ACA/lib/python3.12/site-packages (from python-dateutil>=2.7->matplotlib) (1.17.0)\n"
          ]
        }
      ],
      "source": [
        "!pip install scipy numpy matplotlib"
      ]
    },
    {
      "cell_type": "code",
      "execution_count": 13,
      "metadata": {
        "id": "-XSt8rKnLAPl"
      },
      "outputs": [],
      "source": [
        "import os\n",
        "from scipy.io import wavfile\n",
        "import numpy as np\n",
        "import math\n",
        "\n",
        "def block_audio(audio_input, sr=None, frame_size=2048, hop_ratio=0.5, pad=True):\n",
        "    \"\"\"\n",
        "    Parameters\n",
        "    ----------\n",
        "    audio_input : np.ndarray or str\n",
        "        Audio input. Should be able to come from either:\n",
        "        - A NumPy array containing the audio signal.\n",
        "        - A string path to an audio file (e.g., 'audio.wav').\n",
        "    sr : int\n",
        "        Sampling rate. Required if input is np.ndarray\n",
        "    frame_size : int, optional\n",
        "        Size of each frame in samples (default 2048).\n",
        "    hop_ratio : float, optional\n",
        "        Hop size as a ratio of the frame_size (default 0.5).\n",
        "    pad : bool, optional\n",
        "        If True (default), pads the signal with zeros to ensure all frames are the same length.\n",
        "        If False, discards the last incomplete frame.\n",
        "    Returns\n",
        "    -------\n",
        "    frames : np.ndarray\n",
        "        2D array of shape (n_frames, frame_size).\n",
        "    times : np.ndarray\n",
        "        Array of start times (in seconds) for each frame.\n",
        "    \"\"\"\n",
        "\n",
        "    # Handle input type\n",
        "    if isinstance(audio_input, str):\n",
        "        sr, audio_input = wavfile.read(audio_input)\n",
        "    elif sr is None:\n",
        "        raise ValueError(\"Must provide sampling rate with numpy array or file path as a string\")\n",
        "\n",
        "    # Convert to float in range [-1, 1)\n",
        "    if audio_input.dtype == np.float32 or audio_input.dtype == np.float64:\n",
        "        audio_input = audio_input\n",
        "    else:\n",
        "        # Determine bit depth and convert\n",
        "        if audio_input.dtype == np.uint8:\n",
        "            nbits = 8\n",
        "        elif audio_input.dtype == np.int16:\n",
        "            nbits = 16\n",
        "        elif audio_input.dtype == np.int32:\n",
        "            nbits = 32\n",
        "        else:\n",
        "            raise ValueError(f\"Unsupported audio dtype: {audio_input.dtype}\")\n",
        "\n",
        "        audio_input = audio_input / float(2**(nbits - 1))\n",
        "\n",
        "    # Convert to mono if stereo\n",
        "    if len(audio_input.shape) > 1:\n",
        "        audio_input = np.mean(audio_input, axis=1)\n",
        "\n",
        "    # Calculate hop size as integer\n",
        "    hop_size = int(hop_ratio * frame_size)\n",
        "\n",
        "    # Calculate number of frames\n",
        "    if pad:\n",
        "        # Include all possible frames, padding the last one if necessary\n",
        "        num_blocks = math.ceil((len(audio_input) - frame_size) / hop_size) + 1\n",
        "        # Ensure we have at least one block even for very short audio\n",
        "        num_blocks = max(1, num_blocks)\n",
        "    else:\n",
        "        # Only include complete frames\n",
        "        num_blocks = max(0, (len(audio_input) - frame_size) // hop_size + 1)\n",
        "\n",
        "    # Initialize output arrays\n",
        "    audio_blocks = np.zeros([num_blocks, frame_size])\n",
        "\n",
        "    # Compute time stamps\n",
        "    times = (np.arange(0, num_blocks) * hop_size) / sr\n",
        "\n",
        "    # Extract frames\n",
        "    for n in range(num_blocks):\n",
        "        i_start = n * hop_size\n",
        "        i_stop = i_start + frame_size\n",
        "\n",
        "        if i_stop <= len(audio_input):\n",
        "            # Complete frame\n",
        "            audio_blocks[n] = audio_input[i_start:i_stop]\n",
        "        else:\n",
        "            # Incomplete frame (only happens when pad=True)\n",
        "            remaining_samples = len(audio_input) - i_start\n",
        "            if remaining_samples > 0:\n",
        "                audio_blocks[n, :remaining_samples] = audio_input[i_start:]\n",
        "                # Rest of the frame is already zeros from initialization\n",
        "\n",
        "    return audio_blocks, times"
      ]
    },
    {
      "cell_type": "code",
      "execution_count": 14,
      "metadata": {
        "id": "MkoeVChsMHBf"
      },
      "outputs": [],
      "source": [
        "import scipy.signal as sig\n",
        "import numpy as np\n",
        "import matplotlib.pyplot as plt\n",
        "from pprint import pprint\n",
        "def estimate_f0(audio_frame, sr, minfreq=20, maxfreq=None, threshold=0.25):\n",
        "  \"\"\"\n",
        "  Parameters\n",
        "  ----------\n",
        "  audio_frame : np.ndarray\n",
        "      - A NumPy array containing the audio signal.\n",
        "  sr : int\n",
        "      Sampling rate. Required if input is np.ndarray\n",
        "  minfreq : int, optional\n",
        "      Minimum frequency in Hz that the ACF function will \"look for\"\n",
        "  maxfreq : int, optional\n",
        "      Hop size as a ratio of the frame_size (defaul sr/8).\n",
        "  threshold : float, optional\n",
        "      Minimum ACF value below which there is not high reliability of pitched content (default 0.25)\n",
        "  Returns\n",
        "  -------\n",
        "  f0 : np.float64\n",
        "      Fundamental frequency estimate between your minfreq and maxfreq parameters OR np.nan for a given frame of audio\n",
        "  \"\"\"\n",
        "  # Handle inputs\n",
        "  if maxfreq is None: maxfreq = sr / 8\n",
        "  if maxfreq == 0: raise ValueError('Max Freq cannot be 0')\n",
        "  if minfreq == 0: raise ValueError('Min Freq cannot be 0')\n",
        "  # assign default output for later if no value is found\n",
        "  f0 = np.nan\n",
        "  # normalize from -1 to 1\n",
        "  audio_frame = audio_frame / max(audio_frame)\n",
        "  # apply periodic window function\n",
        "  audio_frame = audio_frame * sig.windows.blackmanharris(len(audio_frame), sym=False)\n",
        "  # subtract the mean\n",
        "  sig.detrend(audio_frame, type='constant', overwrite_data=True)\n",
        "\n",
        "  # convert frequencies to periods\n",
        "  Tmax = 1/minfreq # lowest frequency becomes maximum period (in seconds)\n",
        "  Tmin = 1/maxfreq # highest frequency becomes minimum period (in seconds)\n",
        "  Nmax = int(np.ceil(Tmax * sr)) # seconds * samples/seconds = samples\n",
        "  Nmin = int(np.floor(Tmin * sr))\n",
        "  # calculate acf\n",
        "  corr = np.correlate(audio_frame, audio_frame, mode='full')\n",
        "  corr = corr[len(audio_frame)-1:]\n",
        "  corr = corr / corr[0]\n",
        "\n",
        "\n",
        "  corr = corr[Nmin:Nmax+1] # cut off periods above Nmax\n",
        "\n",
        "  # find strongest peak\n",
        "  peak_indeces, props = sig.find_peaks(corr, height=threshold, distance=Nmin)\n",
        "  if len(peak_indeces) != 0:\n",
        "    strongest_peak = peak_indeces[np.argmax(props[\"peak_heights\"])]\n",
        "    # convert to frequency in Hz\n",
        "    k = Nmin + strongest_peak\n",
        "    f0 = sr / k\n",
        "    # pprint(np.argsort(-props[\"peak_heights\"]))\n",
        "  return f0"
      ]
    },
    {
      "cell_type": "code",
      "execution_count": 15,
      "metadata": {
        "colab": {
          "base_uri": "https://localhost:8080/"
        },
        "id": "aUjQdMA6KCf0",
        "outputId": "f727c08a-95ed-438a-c302-8fc4282069ad"
      },
      "outputs": [
        {
          "name": "stdout",
          "output_type": "stream",
          "text": [
            "452.8301886792453\n"
          ]
        }
      ],
      "source": [
        "# testing\n",
        "sr = 48000\n",
        "t = np.linspace(0, 1, sr, endpoint=False)\n",
        "f = 900\n",
        "input = np.sin(2 * np.pi * t * f)\n",
        "\n",
        "f0 = estimate_f0(input[0:1023], sr, 20,700, threshold = 0.2)\n",
        "print(f0)\n"
      ]
    },
    {
      "cell_type": "code",
      "execution_count": 17,
      "metadata": {
        "colab": {
          "base_uri": "https://localhost:8080/",
          "height": 332
        },
        "id": "nyakPSK9g-Ox",
        "outputId": "abdf5f65-8867-4e18-c858-df25bb1c3b91"
      },
      "outputs": [
        {
          "data": {
            "image/png": "[encoded data removed]",
            "text/plain": [
              "<Figure size 640x480 with 1 Axes>"
            ]
          },
          "metadata": {},
          "output_type": "display_data"
        }
      ],
      "source": [
        "audio1 = 'pansoori_female.wav'\n",
        "audio2 = 'violin-sanidha.wav'\n",
        "\n",
        "input = audio1\n",
        "\n",
        "#get the sr\n",
        "sr, input = wavfile.read(input)\n",
        "\n",
        "#run blocking\n",
        "data, times = block_audio(input, sr=sr, frame_size=2048, hop_ratio=0.5, pad=True)\n",
        "\n",
        "#apply auto correlation\n",
        "f0s = [estimate_f0(frame, sr, 100, 800, threshold = 0.9) for frame in data]\n",
        "f0s = np.array(f0s, dtype=np.float64)\n",
        "\n",
        "\n",
        "#plot the contour\n",
        "plt.plot(times, f0s, marker='.')\n",
        "plt.xlabel(\"Time (s)\")\n",
        "plt.ylabel(\"f0 (Hz)\")\n",
        "plt.title(\"Pitch contour over time\")\n",
        "plt.ylim(100, 800)  # focus on expected pitch range\n",
        "plt.grid(True)\n",
        "plt.show()\n"
      ]
    }
  ],
  "metadata": {
    "colab": {
      "provenance": []
    },
    "kernelspec": {
      "display_name": "ACA (3.12.1)",
      "language": "python",
      "name": "python3"
    },
    "language_info": {
      "codemirror_mode": {
        "name": "ipython",
        "version": 3
      },
      "file_extension": ".py",
      "mimetype": "text/x-python",
      "name": "python",
      "nbconvert_exporter": "python",
      "pygments_lexer": "ipython3",
      "version": "3.12.1"
    }
  },
  "nbformat": 4,
  "nbformat_minor": 0
}
