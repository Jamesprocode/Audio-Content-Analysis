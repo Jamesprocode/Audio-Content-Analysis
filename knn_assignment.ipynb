{
 "cells": [
  {
   "cell_type": "code",
   "execution_count": 1,
   "id": "1d3c092d",
   "metadata": {},
   "outputs": [],
   "source": [
    "#knn model for instrument classification\n",
    "import numpy as np\n",
    "from sklearn.model_selection import train_test_split\n",
    "from sklearn.neighbors import KNeighborsClassifier\n",
    "from sklearn.metrics import accuracy_score\n",
    "import joblib\n",
    "import os"
   ]
  },
  {
   "cell_type": "code",
   "execution_count": null,
   "id": "87a1a30a",
   "metadata": {},
   "outputs": [],
   "source": [
    "#initualize the model\n",
    "knn = KNeighborsClassifier(n_neighbors=5)\n",
    "#load the data\n",
    "X = np.load('features.npy')\n",
    "y = np.load('labels.npy')\n",
    "#split the data into training and testing sets\n",
    "X_train, X_test, y_train, y_test = train_test_split(X, y, test_size=0.2, random_state=42)\n",
    "#train the model\n",
    "knn.fit(X_train, y_train)\n",
    "#make predictions\n",
    "y_pred = knn.predict(X_test)\n",
    "#evaluate the model\n",
    "accuracy = accuracy_score(y_test, y_pred)\n",
    "print(f'Accuracy: {accuracy*100:.2f}%')\n",
    "#save the model"
   ]
  }
 ],
 "metadata": {
  "kernelspec": {
   "display_name": "ACA (3.12.1)",
   "language": "python",
   "name": "python3"
  },
  "language_info": {
   "codemirror_mode": {
    "name": "ipython",
    "version": 3
   },
   "file_extension": ".py",
   "mimetype": "text/x-python",
   "name": "python",
   "nbconvert_exporter": "python",
   "pygments_lexer": "ipython3",
   "version": "3.12.1"
  }
 },
 "nbformat": 4,
 "nbformat_minor": 5
}
